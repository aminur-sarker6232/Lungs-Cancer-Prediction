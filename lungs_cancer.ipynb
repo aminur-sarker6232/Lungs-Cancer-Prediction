{
  "nbformat": 4,
  "nbformat_minor": 0,
  "metadata": {
    "colab": {
      "provenance": []
    },
    "kernelspec": {
      "name": "python3",
      "display_name": "Python 3"
    },
    "language_info": {
      "name": "python"
    }
  },
  "cells": [
    {
      "cell_type": "code",
      "execution_count": null,
      "metadata": {
        "id": "8oxM5rcEqubm"
      },
      "outputs": [],
      "source": [
        "import pandas as pd\n",
        "# from google.colab import drive\n",
        "# drive.mount('/content/drive')\n",
        "# df = pd.read_csv('/content/drive/MyDrive/Projects/Lungs Cancer/lungs_dataset.csv')\n",
        "df = pd.read_csv(r'https://raw.githubusercontent.com/aminur-sarker6232/Lungs-Cancer-Prediction/refs/heads/main/lungs_dataset.csv')"
      ]
    },
    {
      "cell_type": "code",
      "source": [
        "df.head()"
      ],
      "metadata": {
        "id": "sA3Z23czrV0L"
      },
      "execution_count": null,
      "outputs": []
    },
    {
      "cell_type": "code",
      "source": [
        "df.shape"
      ],
      "metadata": {
        "id": "Tj-1VQHBrZT5"
      },
      "execution_count": null,
      "outputs": []
    },
    {
      "cell_type": "code",
      "source": [
        "df.columns"
      ],
      "metadata": {
        "id": "Fkq9Bxn5wf2a"
      },
      "execution_count": null,
      "outputs": []
    },
    {
      "cell_type": "code",
      "source": [
        "df.info()"
      ],
      "metadata": {
        "id": "d7dMCbhasHQp"
      },
      "execution_count": null,
      "outputs": []
    },
    {
      "cell_type": "code",
      "source": [
        "df.describe()"
      ],
      "metadata": {
        "id": "ISpEF10HsLng"
      },
      "execution_count": null,
      "outputs": []
    },
    {
      "cell_type": "code",
      "source": [
        "df.isnull().sum()"
      ],
      "metadata": {
        "id": "byh2rdZHsOVA"
      },
      "execution_count": null,
      "outputs": []
    },
    {
      "cell_type": "code",
      "source": [
        "df['LUNG_CANCER'].value_counts()"
      ],
      "metadata": {
        "id": "Rzjh4SgisVnJ"
      },
      "execution_count": null,
      "outputs": []
    },
    {
      "cell_type": "code",
      "source": [
        "import seaborn as sns\n",
        "sns.countplot(x=\"LUNG_CANCER\",data=df)"
      ],
      "metadata": {
        "id": "tkmhg4qTsguw"
      },
      "execution_count": null,
      "outputs": []
    },
    {
      "cell_type": "code",
      "source": [
        "numerical_columns = df.select_dtypes(include=['int64']).columns\n",
        "\n",
        "for column in numerical_columns:\n",
        "    plt.figure(figsize=(8, 4))\n",
        "    sns.boxplot(x=df[column], palette='Set3')\n",
        "    plt.title(f\"Boxplot of {column}\")\n",
        "    plt.show()"
      ],
      "metadata": {
        "id": "PeEAuSer8IRw"
      },
      "execution_count": null,
      "outputs": []
    },
    {
      "cell_type": "code",
      "source": [
        "from sklearn.preprocessing import LabelEncoder\n",
        "encoded_data = df.copy()\n",
        "\n",
        "label_encoder = LabelEncoder()\n",
        "encoded_data['GENDER'] = label_encoder.fit_transform(encoded_data['GENDER'])\n",
        "encoded_data['LUNG_CANCER'] = label_encoder.fit_transform(encoded_data['LUNG_CANCER'])"
      ],
      "metadata": {
        "id": "y8w0ziQXs4PT"
      },
      "execution_count": null,
      "outputs": []
    },
    {
      "cell_type": "code",
      "source": [
        "encoded_data.head()"
      ],
      "metadata": {
        "id": "T2rqqudstK_6"
      },
      "execution_count": null,
      "outputs": []
    },
    {
      "cell_type": "code",
      "source": [
        "import matplotlib.pyplot as plt\n",
        "encoded_data.hist(bins=31,figsize=(20,20))\n",
        "plt.show()"
      ],
      "metadata": {
        "id": "pwBd-9ZRtb2Z"
      },
      "execution_count": null,
      "outputs": []
    },
    {
      "cell_type": "code",
      "source": [
        "encoded_data.corr()"
      ],
      "metadata": {
        "id": "G1NieCSwvWeX"
      },
      "execution_count": null,
      "outputs": []
    },
    {
      "cell_type": "code",
      "source": [
        "X = encoded_data.drop('LUNG_CANCER', axis=1)\n",
        "y = encoded_data['LUNG_CANCER']\n",
        "\n",
        "\n",
        "from sklearn.model_selection import train_test_split\n",
        "from sklearn.preprocessing import StandardScaler\n",
        "\n",
        "X_train, X_test, y_train, y_test = train_test_split(X , y, test_size=0.5, random_state=42)"
      ],
      "metadata": {
        "id": "YYfWM6rstvDw"
      },
      "execution_count": null,
      "outputs": []
    },
    {
      "cell_type": "code",
      "source": [
        "from sklearn.ensemble import ExtraTreesClassifier\n",
        "model = ExtraTreesClassifier()\n",
        "model.fit(X,y)\n",
        "print(model.feature_importances_)\n",
        "feat_importances = pd.Series(model.feature_importances_, index=X.columns)\n",
        "feat_importances.nlargest(30).plot(kind='barh')\n",
        "plt.show()"
      ],
      "metadata": {
        "id": "zVGJtFyxvpWw"
      },
      "execution_count": null,
      "outputs": []
    },
    {
      "cell_type": "code",
      "source": [
        "from sklearn.tree import DecisionTreeClassifier\n",
        "\n",
        "# Train a Decision Tree model\n",
        "model = DecisionTreeClassifier(random_state=0)\n",
        "model.fit(X_train, y_train)"
      ],
      "metadata": {
        "id": "R3A7rmgpt6pf"
      },
      "execution_count": null,
      "outputs": []
    },
    {
      "cell_type": "code",
      "source": [
        "from sklearn.metrics import classification_report\n",
        "print(classification_report(model.predict(X_test),y_test))"
      ],
      "metadata": {
        "id": "bpi3Tm8-uHQH"
      },
      "execution_count": null,
      "outputs": []
    },
    {
      "cell_type": "code",
      "source": [
        "from sklearn.ensemble import RandomForestClassifier\n",
        "RFCF =RandomForestClassifier()\n",
        "RFCF.fit(X_train, y_train)\n",
        "RFCF.score(X_test, y_test)"
      ],
      "metadata": {
        "id": "j1O5mHJ5uwMh"
      },
      "execution_count": null,
      "outputs": []
    }
  ]
}